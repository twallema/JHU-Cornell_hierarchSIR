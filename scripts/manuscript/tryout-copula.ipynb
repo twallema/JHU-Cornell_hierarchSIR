{
 "cells": [
  {
   "cell_type": "code",
   "execution_count": 1,
   "id": "d4a683a5",
   "metadata": {},
   "outputs": [],
   "source": [
    "import numpy as np\n",
    "import pandas as pd\n",
    "from scipy.stats import norm\n",
    "from scipy.stats import rankdata\n",
    "from scipy.linalg import cholesky"
   ]
  },
  {
   "cell_type": "code",
   "execution_count": 27,
   "id": "3ad95225",
   "metadata": {},
   "outputs": [
    {
     "name": "stdout",
     "output_type": "stream",
     "text": [
      "                 Original 50.000000% Copula 50.000000%\n",
      "Sum(AH1, AH3, B)              77-254           112-238\n"
     ]
    }
   ],
   "source": [
    "# Step 1: Load data\n",
    "df = pd.read_csv('2024-11-23-JHU_IDD-hierarchSIM.csv')\n",
    "df = df[df['horizon']==3].reset_index()[['strain_0', 'strain_1', 'strain_2']]\n",
    "data = df.values\n",
    "n,d = data.shape\n",
    "\n",
    "# Step 2: Compute empirical CDF → Gaussian copula marginals\n",
    "ranks = np.array([rankdata(data[:, i]) for i in range(d)]).T\n",
    "u = (ranks - 0.5) / n\n",
    "z = norm.ppf(u)\n",
    "\n",
    "# Step 3: Define Gaussian copula sample generator\n",
    "def sample_gaussian_copula(z_data, corr_matrix, n_samples=1000):\n",
    "    L = cholesky(corr_matrix, lower=True)\n",
    "    z_std = np.random.randn(n_samples, d)\n",
    "    z_copula = z_std @ L.T\n",
    "\n",
    "    # Transform back via inverse CDF of original marginals\n",
    "    u_copula = norm.cdf(z_copula)\n",
    "    new_samples = np.zeros_like(z_copula)\n",
    "\n",
    "    for i in range(d):\n",
    "        ecdf_sorted = np.sort(data[:, i])\n",
    "        ranks = np.floor(u_copula[:, i] * (n - 1)).astype(int)\n",
    "        new_samples[:, i] = ecdf_sorted[ranks]\n",
    "\n",
    "    return new_samples\n",
    "\n",
    "# Step 4: Define correlation matrix with moderately negative correlation\n",
    "cor_12 = cor_21 = -0.5\n",
    "cor_13 = cor31 = -0.5\n",
    "cor_23 = cor_32 = -0.2\n",
    "corr = np.array([\n",
    "    [1.0, cor_12, cor_13],\n",
    "    [cor_21, 1.0, cor_23],\n",
    "    [cor31, cor_32, 1.0]\n",
    "])\n",
    "\n",
    "# Step 5: Sample and compare\n",
    "copula_samples = sample_gaussian_copula(z, corr, n_samples=n)\n",
    "\n",
    "# Step 6: Compare quantiles\n",
    "alpha=0.50\n",
    "\n",
    "comparison = pd.DataFrame({\n",
    "    f\"Original {int(alpha*100):0f}%\": f'{np.quantile(np.sum(data, axis=1), 0.5*(1-alpha), axis=0):.0f}-{np.quantile(np.sum(data, axis=1), 1-0.5*(1-alpha), axis=0):.0f}',\n",
    "    f\"Copula {int(alpha*100):0f}%\": f'{np.quantile(np.sum(copula_samples, axis=1), 0.5*(1-alpha), axis=0):.0f}-{np.quantile(np.sum(copula_samples, axis=1), 1-0.5*(1-alpha), axis=0):.0f}',\n",
    "}, index=['Sum(AH1, AH3, B)'])\n",
    "\n",
    "print(comparison)\n"
   ]
  }
 ],
 "metadata": {
  "kernelspec": {
   "display_name": "HIERARCHSIR",
   "language": "python",
   "name": "python3"
  },
  "language_info": {
   "codemirror_mode": {
    "name": "ipython",
    "version": 3
   },
   "file_extension": ".py",
   "mimetype": "text/x-python",
   "name": "python",
   "nbconvert_exporter": "python",
   "pygments_lexer": "ipython3",
   "version": "3.12.10"
  }
 },
 "nbformat": 4,
 "nbformat_minor": 5
}
